{
 "cells": [
  {
   "cell_type": "markdown",
   "metadata": {},
   "source": [
    "# Application Summary Jupyter Notebook\n",
    "\n",
    "The notebook is used simplify to set user input and display charts\n",
    "The files `plotting.py` and `applicants.py` are used to generate and display charts & to create a applicant catalog.\n",
    "\n",
    "The jupyter notebook creates a dataframe of the excle file which contains the applicant data. If the application layout changes the jupyter notebook references has to get changed too."
   ]
  },
  {
   "cell_type": "code",
   "execution_count": null,
   "metadata": {},
   "outputs": [],
   "source": [
    "# Variables\n",
    "release_version=\"1.24\"\n",
    "local_excel_file=\"./Kubernetes 1.24 Release Team Shadow Application (Responses).xlsx\""
   ]
  },
  {
   "cell_type": "code",
   "execution_count": null,
   "metadata": {},
   "outputs": [],
   "source": [
    "# Schema variables reference column headers of the applicant excel file\n",
    "schema_previously_served = \"Have you previously served on a Kubernetes Release Team?\"\n",
    "schema_returners_interested_in_roles = f\"What release team roles are you interested in for {release_version}?\"\n",
    "schema_newcomers_interested_in_roles = \"Which release roles are you interested in?\"\n",
    "schema_applied_previously = \"Have you applied to any previous Kubernetes release teams?\"\n",
    "schema_pronouns = \"To help address everyone correctly, please share your pronouns if you're comfortable doing so. You can more about pronoun sharing here https://www.mypronouns.org/sharing\"\n",
    "schema_returners_timezone=\"What time zone are you normally in?\"\n",
    "schema_newcomers_timezone=f\"{schema_returners_timezone}.1\"\n",
    "schema_affiliation=\"Company Affiliation / Employer\""
   ]
  },
  {
   "cell_type": "code",
   "execution_count": null,
   "metadata": {},
   "outputs": [],
   "source": [
    "# Use pandas to load the local excel file and generate a dataframe\n",
    "import pandas as pd\n",
    "from vars import *\n",
    "from plotting import *\n",
    "df = pd.read_excel(local_excel_file)\n",
    "pd.set_option('display.max_columns', 85)\n",
    "pd.set_option('display.max_rows', 85)"
   ]
  },
  {
   "cell_type": "code",
   "execution_count": null,
   "metadata": {},
   "outputs": [],
   "source": [
    "# Filter applicants by returniung release team members and new applicants\n",
    "returners = df[df[schema_previously_served].str.contains(\"Yes\")]\n",
    "newcomers = df[df[schema_previously_served].str.contains(\"No\")]\n",
    "\n",
    "release_teams = {\n",
    "    team_bugtriage: {}, team_cisignal: {}, team_communications: {}, team_releasenotes: {}, team_documentation: {}, team_enhacements: {}\n",
    "}\n",
    "\n",
    "for team in release_teams:\n",
    "    teamApplicantsReturners = returners[returners[schema_returners_interested_in_roles].str.contains(team)]\n",
    "    teamApplicantsNewcomers = newcomers[newcomers[schema_newcomers_interested_in_roles].str.contains(team)]\n",
    "    release_teams[team] = {\n",
    "        group_returners: teamApplicantsReturners,\n",
    "        group_newcomers: teamApplicantsNewcomers\n",
    "    }\n"
   ]
  },
  {
   "cell_type": "code",
   "execution_count": null,
   "metadata": {},
   "outputs": [],
   "source": [
    "timezone_aliases={\n",
    "        \"gmt\": \"london gmt+0\", \"paris\": \"london gmt+0\", \"london\": \"london gmt+0\",\n",
    "        \"middle europe\": \"central europe gmt+1\", \"cet\": \"central europe gmt+1\", \"+ 1\": \"central europe gmt+1\", \"central time\": \"central europe gmt+1\", \"central european time\": \"central europe gmt+1\", \"berlin\": \"central europe gmt+1\", \"+1\": \"central europe gmt+1\", \n",
    "        \"ist\": \"india gmt+5\", \"+5\": \"india gmt+5\", \"+ 5\": \"india gmt+5\", \"india\": \"india gmt+5\", \"indian\": \"india gmt+5\", \"+ 6\": \"india gmt+5\",\n",
    "        \"pst\": \"us pacific gmt-8\", \"pdt\": \"us pacific gmt-8\", \"pacific\": \"us pacific gmt-8\", \"pacific time\": \"us pacific gmt-8\",\n",
    "        \"edt\": \"us east gmt-5\", \"eastern time\": \"us east gmt-5\", \"us east\": \"us east gmt-5\", \"est\": \"us east gmt-5\",\n",
    "        \"+4\": \"iran gmt+4\",\n",
    "        \"+2\": \"east europe gmt+2\", \"eastern europe\": \"east europe gmt+2\", \"eastern standard time\": \"east europe gmt+2\",\n",
    "        \"+3\": \"arabia gmt+3\",\n",
    "        \"+9\": \"japan gmt+9\", \"jst\": \"japan gmt+9\",\n",
    "        \"+8\": \"china gmt+8\", \"shanghai\": \"china gmt+8\",\n",
    "        \"utc\": \"london gmt+0\"\n",
    "    }"
   ]
  },
  {
   "cell_type": "code",
   "execution_count": null,
   "metadata": {},
   "outputs": [],
   "source": [
    "# Some general plotting\n",
    "\n",
    "# General sig release wide charts\n",
    "filter_entities(newcomers[schema_newcomers_timezone].tolist() + returners[schema_returners_timezone].tolist(), \"Timezone\", \n",
    "    aliases=timezone_aliases,\n",
    "    threshold=1, unreached_threshold_print=False)\n",
    "print(f\"see timezones: https://24timezones.com/timezone-map\")\n",
    "filter_entities(df[schema_affiliation].tolist(), \"Affiliation\", \n",
    "    keywords=[\"student\", \"liquid reply\", \"vmware\", \"microsoft\", \"red hat\", \"institute\", \"cisco\", \"ibm\", \"apple\", \"suse\", \"google\", \"independant\", \"deloitte\", \"adesso\"],\n",
    "    aliases={\"redhat\": \"red hat\", \"freelancer\": \"independant\"},\n",
    "    threshold=1)\n",
    "applicants_by_team(len(df), release_teams)\n",
    "pronouns_chart(df[schema_pronouns])\n",
    "reapplying_newcomers(newcomers[schema_applied_previously])\n",
    "newcomers_and_returners(returners, newcomers)\n"
   ]
  },
  {
   "cell_type": "code",
   "execution_count": null,
   "metadata": {},
   "outputs": [],
   "source": [
    "# Team specific charts\n",
    "\n",
    "# Generate plots for all teams\n",
    "for team in release_teams:\n",
    "    print(f\"\\n\\n{team}\")\n",
    "    newcomers_and_returners(release_teams[team][group_returners], release_teams[team][group_newcomers], team)\n",
    "    applied_for_multiple_teams([release_teams[team][group_newcomers][schema_newcomers_interested_in_roles], release_teams[team][group_returners][schema_returners_interested_in_roles]], team, release_teams)\n",
    "    pronouns_chart(release_teams[team][group_newcomers][schema_pronouns].tolist() + release_teams[team][group_returners][schema_pronouns].tolist(), team)\n",
    "    filter_entities(release_teams[team][group_newcomers][schema_newcomers_timezone].tolist() + release_teams[team][group_returners][schema_returners_timezone].tolist(), \"Timezone\", \n",
    "        aliases=timezone_aliases,\n",
    "        threshold=1, unreached_threshold_print=False, team=team)"
   ]
  }
 ],
 "metadata": {
  "interpreter": {
   "hash": "916dbcbb3f70747c44a77c7bcd40155683ae19c65e1c03b4aa3499c5328201f1"
  },
  "kernelspec": {
   "display_name": "Python 3.8.12 64-bit",
   "language": "python",
   "name": "python3"
  },
  "language_info": {
   "codemirror_mode": {
    "name": "ipython",
    "version": 3
   },
   "file_extension": ".py",
   "mimetype": "text/x-python",
   "name": "python",
   "nbconvert_exporter": "python",
   "pygments_lexer": "ipython3",
   "version": "3.8.12"
  },
  "orig_nbformat": 4
 },
 "nbformat": 4,
 "nbformat_minor": 2
}
